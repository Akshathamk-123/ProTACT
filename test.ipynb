{
 "cells": [
  {
   "cell_type": "markdown",
   "metadata": {},
   "source": [
    "## Imports"
   ]
  },
  {
   "cell_type": "code",
   "execution_count": null,
   "metadata": {
    "vscode": {
     "languageId": "plaintext"
    }
   },
   "outputs": [],
   "source": [
    "from evaluators.multitask_evaluator_all_attributes import Evaluator as AllAttEvaluator"
   ]
  },
  {
   "cell_type": "code",
   "execution_count": null,
   "metadata": {
    "vscode": {
     "languageId": "plaintext"
    }
   },
   "outputs": [],
   "source": [
    "from Feedback_generation.feedback import EssayFeedbackGenerator"
   ]
  },
  {
   "cell_type": "markdown",
   "metadata": {},
   "source": [
    "## Rest"
   ]
  },
  {
   "cell_type": "code",
   "execution_count": null,
   "metadata": {
    "vscode": {
     "languageId": "plaintext"
    }
   },
   "outputs": [],
   "source": [
    "evaluator = AllAttEvaluator()\n",
    "essay_prompt = \"Write an essay on the importance of teamwork.\"\n",
    "essay = \"Teamwork is essential because it allows us to share ideas and learn from each other...\"\n",
    "scores = evaluator.evaluate(essay_prompt, essay)\n",
    "print(scores)"
   ]
  },
  {
   "cell_type": "code",
   "execution_count": null,
   "metadata": {
    "vscode": {
     "languageId": "plaintext"
    }
   },
   "outputs": [],
   "source": [
    "def input_to_feedback(score_list):\n",
    "\n",
    "    criteria_names = [\n",
    "        \"overall_score\", \"content_score\", \"organization_score\", \"word_choice_score\",\n",
    "        \"sentence_fluency_score\", \"conventions_score\", \"prompt_adherence_score\",\n",
    "        \"language_score\", \"narrativity_score\"\n",
    "    ]\n",
    "\n",
    "    # Create the dictionary by zipping criteria names with score values\n",
    "    flattened_scores = dict(zip(criteria_names, score_list))\n",
    "\n",
    "    return flattened_scores"
   ]
  },
  {
   "cell_type": "code",
   "execution_count": null,
   "metadata": {
    "vscode": {
     "languageId": "plaintext"
    }
   },
   "outputs": [],
   "source": [
    "feedback_input = input_to_feedback(scores)"
   ]
  },
  {
   "cell_type": "code",
   "execution_count": null,
   "metadata": {
    "vscode": {
     "languageId": "plaintext"
    }
   },
   "outputs": [],
   "source": [
    "feedback_generator = EssayFeedbackGenerator()\n",
    "feedback = feedback_generator.generate_feedback(essay_text, essay_prompt, feedback_input = input_to_feedback(scores))\n",
    "print(feedback)"
   ]
  }
 ],
 "metadata": {
  "language_info": {
   "name": "python"
  }
 },
 "nbformat": 4,
 "nbformat_minor": 2
}
